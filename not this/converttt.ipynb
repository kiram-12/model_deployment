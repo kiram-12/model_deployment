{
 "cells": [
  {
   "cell_type": "code",
   "execution_count": null,
   "metadata": {},
   "outputs": [],
   "source": [
    "import cv2\n",
    "import os\n",
    "\n",
    "# Path to the directory containing your images\n",
    "input_directory = \"\"\n",
    "\n",
    "# Path to the directory where you want to save the modified images\n",
    "output_directory = \"path/to/save/modified/images\"\n",
    "\n",
    "# List all files in the input directory\n",
    "image_files = [f for f in os.listdir(input_directory) if f.endswith(('.png', '.jpg', '.jpeg'))]\n",
    "\n",
    "# Ensure the output directory exists, create it if necessary\n",
    "os.makedirs(output_directory, exist_ok=True)\n",
    "\n",
    "# Convert each image from RGB to BGR and save it to the output directory\n",
    "for image_file in image_files:\n",
    "    input_path = os.path.join(input_directory, image_file)\n",
    "    output_path = os.path.join(output_directory, image_file)\n",
    "\n",
    "    # Read the image\n",
    "    img = cv2.imread(input_path)\n",
    "\n",
    "    # Convert from RGB to BGR\n",
    "    img_bgr = cv2.cvtColor(img, cv2.COLOR_RGB2BGR)\n",
    "\n",
    "    # Save the modified image\n",
    "    cv2.imwrite(output_path, img_bgr)\n",
    "\n",
    "print(\"Conversion completed.\")\n"
   ]
  }
 ],
 "metadata": {
  "language_info": {
   "name": "python"
  }
 },
 "nbformat": 4,
 "nbformat_minor": 2
}
